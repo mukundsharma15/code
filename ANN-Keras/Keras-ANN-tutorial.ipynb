{
 "cells": [
  {
   "cell_type": "markdown",
   "metadata": {},
   "source": [
    "# Keras Tutorial"
   ]
  },
  {
   "cell_type": "code",
   "execution_count": 5,
   "metadata": {},
   "outputs": [],
   "source": [
    "import pandas as pd\n",
    "import numpy as np"
   ]
  },
  {
   "cell_type": "code",
   "execution_count": 6,
   "metadata": {},
   "outputs": [],
   "source": [
    "import matplotlib.pyplot as plt"
   ]
  },
  {
   "cell_type": "code",
   "execution_count": 7,
   "metadata": {},
   "outputs": [],
   "source": [
    "import keras"
   ]
  },
  {
   "cell_type": "code",
   "execution_count": 8,
   "metadata": {},
   "outputs": [],
   "source": [
    "df = pd.read_csv('Churn_Modelling.csv')"
   ]
  },
  {
   "cell_type": "code",
   "execution_count": 9,
   "metadata": {},
   "outputs": [
    {
     "data": {
      "text/html": [
       "<div>\n",
       "<style scoped>\n",
       "    .dataframe tbody tr th:only-of-type {\n",
       "        vertical-align: middle;\n",
       "    }\n",
       "\n",
       "    .dataframe tbody tr th {\n",
       "        vertical-align: top;\n",
       "    }\n",
       "\n",
       "    .dataframe thead th {\n",
       "        text-align: right;\n",
       "    }\n",
       "</style>\n",
       "<table border=\"1\" class=\"dataframe\">\n",
       "  <thead>\n",
       "    <tr style=\"text-align: right;\">\n",
       "      <th></th>\n",
       "      <th>RowNumber</th>\n",
       "      <th>CustomerId</th>\n",
       "      <th>Surname</th>\n",
       "      <th>CreditScore</th>\n",
       "      <th>Geography</th>\n",
       "      <th>Gender</th>\n",
       "      <th>Age</th>\n",
       "      <th>Tenure</th>\n",
       "      <th>Balance</th>\n",
       "      <th>NumOfProducts</th>\n",
       "      <th>HasCrCard</th>\n",
       "      <th>IsActiveMember</th>\n",
       "      <th>EstimatedSalary</th>\n",
       "      <th>Exited</th>\n",
       "    </tr>\n",
       "  </thead>\n",
       "  <tbody>\n",
       "    <tr>\n",
       "      <th>0</th>\n",
       "      <td>1</td>\n",
       "      <td>15634602</td>\n",
       "      <td>Hargrave</td>\n",
       "      <td>619</td>\n",
       "      <td>France</td>\n",
       "      <td>Female</td>\n",
       "      <td>42</td>\n",
       "      <td>2</td>\n",
       "      <td>0.00</td>\n",
       "      <td>1</td>\n",
       "      <td>1</td>\n",
       "      <td>1</td>\n",
       "      <td>101348.88</td>\n",
       "      <td>1</td>\n",
       "    </tr>\n",
       "    <tr>\n",
       "      <th>1</th>\n",
       "      <td>2</td>\n",
       "      <td>15647311</td>\n",
       "      <td>Hill</td>\n",
       "      <td>608</td>\n",
       "      <td>Spain</td>\n",
       "      <td>Female</td>\n",
       "      <td>41</td>\n",
       "      <td>1</td>\n",
       "      <td>83807.86</td>\n",
       "      <td>1</td>\n",
       "      <td>0</td>\n",
       "      <td>1</td>\n",
       "      <td>112542.58</td>\n",
       "      <td>0</td>\n",
       "    </tr>\n",
       "    <tr>\n",
       "      <th>2</th>\n",
       "      <td>3</td>\n",
       "      <td>15619304</td>\n",
       "      <td>Onio</td>\n",
       "      <td>502</td>\n",
       "      <td>France</td>\n",
       "      <td>Female</td>\n",
       "      <td>42</td>\n",
       "      <td>8</td>\n",
       "      <td>159660.80</td>\n",
       "      <td>3</td>\n",
       "      <td>1</td>\n",
       "      <td>0</td>\n",
       "      <td>113931.57</td>\n",
       "      <td>1</td>\n",
       "    </tr>\n",
       "    <tr>\n",
       "      <th>3</th>\n",
       "      <td>4</td>\n",
       "      <td>15701354</td>\n",
       "      <td>Boni</td>\n",
       "      <td>699</td>\n",
       "      <td>France</td>\n",
       "      <td>Female</td>\n",
       "      <td>39</td>\n",
       "      <td>1</td>\n",
       "      <td>0.00</td>\n",
       "      <td>2</td>\n",
       "      <td>0</td>\n",
       "      <td>0</td>\n",
       "      <td>93826.63</td>\n",
       "      <td>0</td>\n",
       "    </tr>\n",
       "    <tr>\n",
       "      <th>4</th>\n",
       "      <td>5</td>\n",
       "      <td>15737888</td>\n",
       "      <td>Mitchell</td>\n",
       "      <td>850</td>\n",
       "      <td>Spain</td>\n",
       "      <td>Female</td>\n",
       "      <td>43</td>\n",
       "      <td>2</td>\n",
       "      <td>125510.82</td>\n",
       "      <td>1</td>\n",
       "      <td>1</td>\n",
       "      <td>1</td>\n",
       "      <td>79084.10</td>\n",
       "      <td>0</td>\n",
       "    </tr>\n",
       "    <tr>\n",
       "      <th>...</th>\n",
       "      <td>...</td>\n",
       "      <td>...</td>\n",
       "      <td>...</td>\n",
       "      <td>...</td>\n",
       "      <td>...</td>\n",
       "      <td>...</td>\n",
       "      <td>...</td>\n",
       "      <td>...</td>\n",
       "      <td>...</td>\n",
       "      <td>...</td>\n",
       "      <td>...</td>\n",
       "      <td>...</td>\n",
       "      <td>...</td>\n",
       "      <td>...</td>\n",
       "    </tr>\n",
       "    <tr>\n",
       "      <th>9995</th>\n",
       "      <td>9996</td>\n",
       "      <td>15606229</td>\n",
       "      <td>Obijiaku</td>\n",
       "      <td>771</td>\n",
       "      <td>France</td>\n",
       "      <td>Male</td>\n",
       "      <td>39</td>\n",
       "      <td>5</td>\n",
       "      <td>0.00</td>\n",
       "      <td>2</td>\n",
       "      <td>1</td>\n",
       "      <td>0</td>\n",
       "      <td>96270.64</td>\n",
       "      <td>0</td>\n",
       "    </tr>\n",
       "    <tr>\n",
       "      <th>9996</th>\n",
       "      <td>9997</td>\n",
       "      <td>15569892</td>\n",
       "      <td>Johnstone</td>\n",
       "      <td>516</td>\n",
       "      <td>France</td>\n",
       "      <td>Male</td>\n",
       "      <td>35</td>\n",
       "      <td>10</td>\n",
       "      <td>57369.61</td>\n",
       "      <td>1</td>\n",
       "      <td>1</td>\n",
       "      <td>1</td>\n",
       "      <td>101699.77</td>\n",
       "      <td>0</td>\n",
       "    </tr>\n",
       "    <tr>\n",
       "      <th>9997</th>\n",
       "      <td>9998</td>\n",
       "      <td>15584532</td>\n",
       "      <td>Liu</td>\n",
       "      <td>709</td>\n",
       "      <td>France</td>\n",
       "      <td>Female</td>\n",
       "      <td>36</td>\n",
       "      <td>7</td>\n",
       "      <td>0.00</td>\n",
       "      <td>1</td>\n",
       "      <td>0</td>\n",
       "      <td>1</td>\n",
       "      <td>42085.58</td>\n",
       "      <td>1</td>\n",
       "    </tr>\n",
       "    <tr>\n",
       "      <th>9998</th>\n",
       "      <td>9999</td>\n",
       "      <td>15682355</td>\n",
       "      <td>Sabbatini</td>\n",
       "      <td>772</td>\n",
       "      <td>Germany</td>\n",
       "      <td>Male</td>\n",
       "      <td>42</td>\n",
       "      <td>3</td>\n",
       "      <td>75075.31</td>\n",
       "      <td>2</td>\n",
       "      <td>1</td>\n",
       "      <td>0</td>\n",
       "      <td>92888.52</td>\n",
       "      <td>1</td>\n",
       "    </tr>\n",
       "    <tr>\n",
       "      <th>9999</th>\n",
       "      <td>10000</td>\n",
       "      <td>15628319</td>\n",
       "      <td>Walker</td>\n",
       "      <td>792</td>\n",
       "      <td>France</td>\n",
       "      <td>Female</td>\n",
       "      <td>28</td>\n",
       "      <td>4</td>\n",
       "      <td>130142.79</td>\n",
       "      <td>1</td>\n",
       "      <td>1</td>\n",
       "      <td>0</td>\n",
       "      <td>38190.78</td>\n",
       "      <td>0</td>\n",
       "    </tr>\n",
       "  </tbody>\n",
       "</table>\n",
       "<p>10000 rows × 14 columns</p>\n",
       "</div>"
      ],
      "text/plain": [
       "      RowNumber  CustomerId    Surname  CreditScore Geography  Gender  Age  \\\n",
       "0             1    15634602   Hargrave          619    France  Female   42   \n",
       "1             2    15647311       Hill          608     Spain  Female   41   \n",
       "2             3    15619304       Onio          502    France  Female   42   \n",
       "3             4    15701354       Boni          699    France  Female   39   \n",
       "4             5    15737888   Mitchell          850     Spain  Female   43   \n",
       "...         ...         ...        ...          ...       ...     ...  ...   \n",
       "9995       9996    15606229   Obijiaku          771    France    Male   39   \n",
       "9996       9997    15569892  Johnstone          516    France    Male   35   \n",
       "9997       9998    15584532        Liu          709    France  Female   36   \n",
       "9998       9999    15682355  Sabbatini          772   Germany    Male   42   \n",
       "9999      10000    15628319     Walker          792    France  Female   28   \n",
       "\n",
       "      Tenure    Balance  NumOfProducts  HasCrCard  IsActiveMember  \\\n",
       "0          2       0.00              1          1               1   \n",
       "1          1   83807.86              1          0               1   \n",
       "2          8  159660.80              3          1               0   \n",
       "3          1       0.00              2          0               0   \n",
       "4          2  125510.82              1          1               1   \n",
       "...      ...        ...            ...        ...             ...   \n",
       "9995       5       0.00              2          1               0   \n",
       "9996      10   57369.61              1          1               1   \n",
       "9997       7       0.00              1          0               1   \n",
       "9998       3   75075.31              2          1               0   \n",
       "9999       4  130142.79              1          1               0   \n",
       "\n",
       "      EstimatedSalary  Exited  \n",
       "0           101348.88       1  \n",
       "1           112542.58       0  \n",
       "2           113931.57       1  \n",
       "3            93826.63       0  \n",
       "4            79084.10       0  \n",
       "...               ...     ...  \n",
       "9995         96270.64       0  \n",
       "9996        101699.77       0  \n",
       "9997         42085.58       1  \n",
       "9998         92888.52       1  \n",
       "9999         38190.78       0  \n",
       "\n",
       "[10000 rows x 14 columns]"
      ]
     },
     "execution_count": 9,
     "metadata": {},
     "output_type": "execute_result"
    }
   ],
   "source": [
    "df"
   ]
  },
  {
   "cell_type": "code",
   "execution_count": 8,
   "metadata": {},
   "outputs": [
    {
     "data": {
      "text/plain": [
       "(10000, 14)"
      ]
     },
     "execution_count": 8,
     "metadata": {},
     "output_type": "execute_result"
    }
   ],
   "source": [
    "df.shape"
   ]
  },
  {
   "cell_type": "code",
   "execution_count": 10,
   "metadata": {},
   "outputs": [],
   "source": [
    "X = df.iloc[:, 3:13]"
   ]
  },
  {
   "cell_type": "code",
   "execution_count": 11,
   "metadata": {},
   "outputs": [],
   "source": [
    "Y = df.iloc[:, 13]"
   ]
  },
  {
   "cell_type": "code",
   "execution_count": 16,
   "metadata": {},
   "outputs": [],
   "source": [
    "# creating dummy variables\n",
    "geography = pd.get_dummies(X['Geography'], drop_first=True)\n",
    "gender = pd.get_dummies(X['Gender'], drop_first= True)"
   ]
  },
  {
   "cell_type": "code",
   "execution_count": 19,
   "metadata": {},
   "outputs": [],
   "source": [
    "X = X.drop(['Geography', 'Gender'], axis=1)"
   ]
  },
  {
   "cell_type": "code",
   "execution_count": 23,
   "metadata": {},
   "outputs": [],
   "source": [
    "from sklearn.model_selection import train_test_split"
   ]
  },
  {
   "cell_type": "code",
   "execution_count": 24,
   "metadata": {},
   "outputs": [],
   "source": [
    "X_train, X_test, Y_train, Y_test = train_test_split(X, Y, test_size=0.2, random_state=0)"
   ]
  },
  {
   "cell_type": "code",
   "execution_count": 25,
   "metadata": {},
   "outputs": [],
   "source": [
    "#feaure scaling"
   ]
  },
  {
   "cell_type": "code",
   "execution_count": 26,
   "metadata": {},
   "outputs": [],
   "source": [
    "from sklearn.preprocessing import StandardScaler"
   ]
  },
  {
   "cell_type": "code",
   "execution_count": 27,
   "metadata": {},
   "outputs": [],
   "source": [
    "sc = StandardScaler()\n",
    "X_train = sc.fit_transform(X_train)\n",
    "X_test = sc.fit_transform(X_test)"
   ]
  },
  {
   "cell_type": "code",
   "execution_count": 44,
   "metadata": {},
   "outputs": [],
   "source": [
    "from keras.models import Sequential\n",
    "from keras.layers import Dense\n",
    "from keras.layers import LeakyReLU,PReLU, ELU\n",
    "from keras.layers import Dropout"
   ]
  },
  {
   "cell_type": "code",
   "execution_count": 45,
   "metadata": {},
   "outputs": [],
   "source": [
    "classifier = Sequential()"
   ]
  },
  {
   "cell_type": "code",
   "execution_count": 46,
   "metadata": {},
   "outputs": [],
   "source": [
    "classifier.add(Dense(6, input_dim=8, activation='relu'))"
   ]
  },
  {
   "cell_type": "code",
   "execution_count": 47,
   "metadata": {},
   "outputs": [],
   "source": [
    "classifier.add(Dense(6, activation='relu'))"
   ]
  },
  {
   "cell_type": "code",
   "execution_count": 48,
   "metadata": {},
   "outputs": [],
   "source": [
    "classifier.add(Dense(1, activation='sigmoid'))"
   ]
  },
  {
   "cell_type": "code",
   "execution_count": 49,
   "metadata": {},
   "outputs": [
    {
     "data": {
      "text/plain": [
       "(8000, 8)"
      ]
     },
     "execution_count": 49,
     "metadata": {},
     "output_type": "execute_result"
    }
   ],
   "source": [
    "X_train.shape"
   ]
  },
  {
   "cell_type": "code",
   "execution_count": 50,
   "metadata": {},
   "outputs": [],
   "source": [
    "classifier.compile(loss='binary_crossentropy', optimizer='adam', metrics=['accuracy'])"
   ]
  },
  {
   "cell_type": "code",
   "execution_count": 51,
   "metadata": {
    "scrolled": true
   },
   "outputs": [
    {
     "name": "stdout",
     "output_type": "stream",
     "text": [
      "Epoch 1/100\n",
      "536/536 [==============================] - 24s 5ms/step - loss: 0.6494 - accuracy: 0.6575 - val_loss: 0.4912 - val_accuracy: 0.7955\n",
      "Epoch 2/100\n",
      "536/536 [==============================] - 2s 3ms/step - loss: 0.4782 - accuracy: 0.7931 - val_loss: 0.4580 - val_accuracy: 0.7955\n",
      "Epoch 3/100\n",
      "536/536 [==============================] - 1s 3ms/step - loss: 0.4377 - accuracy: 0.8058 - val_loss: 0.4407 - val_accuracy: 0.7955\n",
      "Epoch 4/100\n",
      "536/536 [==============================] - 1s 3ms/step - loss: 0.4435 - accuracy: 0.7902 - val_loss: 0.4277 - val_accuracy: 0.8099\n",
      "Epoch 5/100\n",
      "536/536 [==============================] - 2s 3ms/step - loss: 0.4232 - accuracy: 0.8120 - val_loss: 0.4198 - val_accuracy: 0.8224\n",
      "Epoch 6/100\n",
      "536/536 [==============================] - 2s 3ms/step - loss: 0.4082 - accuracy: 0.8255 - val_loss: 0.4125 - val_accuracy: 0.8247\n",
      "Epoch 7/100\n",
      "536/536 [==============================] - 2s 3ms/step - loss: 0.3918 - accuracy: 0.8305 - val_loss: 0.4051 - val_accuracy: 0.8209\n",
      "Epoch 8/100\n",
      "536/536 [==============================] - 2s 3ms/step - loss: 0.4043 - accuracy: 0.8193 - val_loss: 0.4000 - val_accuracy: 0.8353\n",
      "Epoch 9/100\n",
      "536/536 [==============================] - 1s 3ms/step - loss: 0.3843 - accuracy: 0.8355 - val_loss: 0.3894 - val_accuracy: 0.8406\n",
      "Epoch 10/100\n",
      "536/536 [==============================] - 1s 3ms/step - loss: 0.3764 - accuracy: 0.8431 - val_loss: 0.3825 - val_accuracy: 0.8448\n",
      "Epoch 11/100\n",
      "536/536 [==============================] - 1s 3ms/step - loss: 0.3700 - accuracy: 0.8478 - val_loss: 0.3808 - val_accuracy: 0.8466\n",
      "Epoch 12/100\n",
      "536/536 [==============================] - 1s 3ms/step - loss: 0.3749 - accuracy: 0.8467 - val_loss: 0.3769 - val_accuracy: 0.8497\n",
      "Epoch 13/100\n",
      "536/536 [==============================] - 1s 3ms/step - loss: 0.3589 - accuracy: 0.8505 - val_loss: 0.3753 - val_accuracy: 0.8501\n",
      "Epoch 14/100\n",
      "536/536 [==============================] - 1s 3ms/step - loss: 0.3655 - accuracy: 0.8480 - val_loss: 0.3737 - val_accuracy: 0.8485\n",
      "Epoch 15/100\n",
      "536/536 [==============================] - 1s 3ms/step - loss: 0.3490 - accuracy: 0.8548 - val_loss: 0.3742 - val_accuracy: 0.8501\n",
      "Epoch 16/100\n",
      "536/536 [==============================] - 1s 3ms/step - loss: 0.3608 - accuracy: 0.8499 - val_loss: 0.3733 - val_accuracy: 0.8501\n",
      "Epoch 17/100\n",
      "536/536 [==============================] - 1s 3ms/step - loss: 0.3602 - accuracy: 0.8519 - val_loss: 0.3738 - val_accuracy: 0.8489\n",
      "Epoch 18/100\n",
      "536/536 [==============================] - 1s 3ms/step - loss: 0.3570 - accuracy: 0.8552 - val_loss: 0.3727 - val_accuracy: 0.8489\n",
      "Epoch 19/100\n",
      "536/536 [==============================] - 1s 3ms/step - loss: 0.3557 - accuracy: 0.8515 - val_loss: 0.3741 - val_accuracy: 0.8482\n",
      "Epoch 20/100\n",
      "536/536 [==============================] - 1s 3ms/step - loss: 0.3559 - accuracy: 0.8501 - val_loss: 0.3769 - val_accuracy: 0.8482\n",
      "Epoch 21/100\n",
      "536/536 [==============================] - 1s 3ms/step - loss: 0.3624 - accuracy: 0.8514 - val_loss: 0.3714 - val_accuracy: 0.8497\n",
      "Epoch 22/100\n",
      "536/536 [==============================] - 1s 3ms/step - loss: 0.3394 - accuracy: 0.8615 - val_loss: 0.3721 - val_accuracy: 0.8497\n",
      "Epoch 23/100\n",
      "536/536 [==============================] - 1s 3ms/step - loss: 0.3521 - accuracy: 0.8502 - val_loss: 0.3730 - val_accuracy: 0.8485\n",
      "Epoch 24/100\n",
      "536/536 [==============================] - 1s 3ms/step - loss: 0.3595 - accuracy: 0.8498 - val_loss: 0.3712 - val_accuracy: 0.8485\n",
      "Epoch 25/100\n",
      "536/536 [==============================] - 1s 3ms/step - loss: 0.3513 - accuracy: 0.8533 - val_loss: 0.3717 - val_accuracy: 0.8508\n",
      "Epoch 26/100\n",
      "536/536 [==============================] - 1s 3ms/step - loss: 0.3539 - accuracy: 0.8559 - val_loss: 0.3725 - val_accuracy: 0.8489\n",
      "Epoch 27/100\n",
      "536/536 [==============================] - 1s 3ms/step - loss: 0.3494 - accuracy: 0.8545 - val_loss: 0.3722 - val_accuracy: 0.8516\n",
      "Epoch 28/100\n",
      "536/536 [==============================] - 1s 3ms/step - loss: 0.3599 - accuracy: 0.8479 - val_loss: 0.3720 - val_accuracy: 0.8485\n",
      "Epoch 29/100\n",
      "536/536 [==============================] - 1s 3ms/step - loss: 0.3557 - accuracy: 0.8505 - val_loss: 0.3710 - val_accuracy: 0.8493\n",
      "Epoch 30/100\n",
      "536/536 [==============================] - 1s 3ms/step - loss: 0.3471 - accuracy: 0.8572 - val_loss: 0.3745 - val_accuracy: 0.8485\n",
      "Epoch 31/100\n",
      "536/536 [==============================] - 1s 3ms/step - loss: 0.3389 - accuracy: 0.8550 - val_loss: 0.3718 - val_accuracy: 0.8501\n",
      "Epoch 32/100\n",
      "536/536 [==============================] - 1s 3ms/step - loss: 0.3432 - accuracy: 0.8584 - val_loss: 0.3725 - val_accuracy: 0.8504\n",
      "Epoch 33/100\n",
      "536/536 [==============================] - 1s 3ms/step - loss: 0.3420 - accuracy: 0.8585 - val_loss: 0.3713 - val_accuracy: 0.8493\n",
      "Epoch 34/100\n",
      "536/536 [==============================] - 1s 3ms/step - loss: 0.3480 - accuracy: 0.8572 - val_loss: 0.3714 - val_accuracy: 0.8504\n",
      "Epoch 35/100\n",
      "536/536 [==============================] - 1s 3ms/step - loss: 0.3535 - accuracy: 0.8511 - val_loss: 0.3715 - val_accuracy: 0.8508\n",
      "Epoch 36/100\n",
      "536/536 [==============================] - 1s 3ms/step - loss: 0.3377 - accuracy: 0.8661 - val_loss: 0.3717 - val_accuracy: 0.8497\n",
      "Epoch 37/100\n",
      "536/536 [==============================] - 1s 3ms/step - loss: 0.3388 - accuracy: 0.8656 - val_loss: 0.3726 - val_accuracy: 0.8478\n",
      "Epoch 38/100\n",
      "536/536 [==============================] - 1s 3ms/step - loss: 0.3492 - accuracy: 0.8585 - val_loss: 0.3735 - val_accuracy: 0.8501\n",
      "Epoch 39/100\n",
      "536/536 [==============================] - 1s 3ms/step - loss: 0.3513 - accuracy: 0.8500 - val_loss: 0.3745 - val_accuracy: 0.8508\n",
      "Epoch 40/100\n",
      "536/536 [==============================] - 1s 3ms/step - loss: 0.3504 - accuracy: 0.8529 - val_loss: 0.3712 - val_accuracy: 0.8497\n",
      "Epoch 41/100\n",
      "536/536 [==============================] - 1s 3ms/step - loss: 0.3423 - accuracy: 0.8561 - val_loss: 0.3715 - val_accuracy: 0.8501\n",
      "Epoch 42/100\n",
      "536/536 [==============================] - 1s 3ms/step - loss: 0.3326 - accuracy: 0.8655 - val_loss: 0.3711 - val_accuracy: 0.8512\n",
      "Epoch 43/100\n",
      "536/536 [==============================] - 1s 3ms/step - loss: 0.3627 - accuracy: 0.8483 - val_loss: 0.3718 - val_accuracy: 0.8512\n",
      "Epoch 44/100\n",
      "536/536 [==============================] - 1s 3ms/step - loss: 0.3528 - accuracy: 0.8584 - val_loss: 0.3738 - val_accuracy: 0.8504\n",
      "Epoch 45/100\n",
      "536/536 [==============================] - 1s 3ms/step - loss: 0.3471 - accuracy: 0.8531 - val_loss: 0.3728 - val_accuracy: 0.8497\n",
      "Epoch 46/100\n",
      "536/536 [==============================] - 1s 3ms/step - loss: 0.3559 - accuracy: 0.8514 - val_loss: 0.3720 - val_accuracy: 0.8497\n",
      "Epoch 47/100\n",
      "536/536 [==============================] - 1s 3ms/step - loss: 0.3391 - accuracy: 0.8579 - val_loss: 0.3717 - val_accuracy: 0.8474\n",
      "Epoch 48/100\n",
      "536/536 [==============================] - 1s 3ms/step - loss: 0.3402 - accuracy: 0.8574 - val_loss: 0.3725 - val_accuracy: 0.8504\n",
      "Epoch 49/100\n",
      "536/536 [==============================] - 1s 3ms/step - loss: 0.3400 - accuracy: 0.8603 - val_loss: 0.3720 - val_accuracy: 0.8489\n",
      "Epoch 50/100\n",
      "536/536 [==============================] - 1s 3ms/step - loss: 0.3340 - accuracy: 0.8610 - val_loss: 0.3732 - val_accuracy: 0.8501\n",
      "Epoch 51/100\n",
      "536/536 [==============================] - 1s 3ms/step - loss: 0.3423 - accuracy: 0.8604 - val_loss: 0.3703 - val_accuracy: 0.8478\n",
      "Epoch 52/100\n",
      "536/536 [==============================] - 1s 3ms/step - loss: 0.3438 - accuracy: 0.8517 - val_loss: 0.3716 - val_accuracy: 0.8508\n",
      "Epoch 53/100\n",
      "536/536 [==============================] - 1s 3ms/step - loss: 0.3355 - accuracy: 0.8573 - val_loss: 0.3712 - val_accuracy: 0.8493\n",
      "Epoch 54/100\n",
      "536/536 [==============================] - 1s 3ms/step - loss: 0.3353 - accuracy: 0.8587 - val_loss: 0.3727 - val_accuracy: 0.8504\n",
      "Epoch 55/100\n",
      "536/536 [==============================] - 1s 3ms/step - loss: 0.3487 - accuracy: 0.8546 - val_loss: 0.3754 - val_accuracy: 0.8497\n",
      "Epoch 56/100\n",
      "536/536 [==============================] - 1s 3ms/step - loss: 0.3428 - accuracy: 0.8648 - val_loss: 0.3722 - val_accuracy: 0.8497\n",
      "Epoch 57/100\n",
      "536/536 [==============================] - 1s 3ms/step - loss: 0.3528 - accuracy: 0.8559 - val_loss: 0.3719 - val_accuracy: 0.8489\n"
     ]
    },
    {
     "name": "stdout",
     "output_type": "stream",
     "text": [
      "Epoch 58/100\n",
      "536/536 [==============================] - 1s 3ms/step - loss: 0.3332 - accuracy: 0.8606 - val_loss: 0.3722 - val_accuracy: 0.8482\n",
      "Epoch 59/100\n",
      "536/536 [==============================] - 1s 3ms/step - loss: 0.3456 - accuracy: 0.8553 - val_loss: 0.3712 - val_accuracy: 0.8489\n",
      "Epoch 60/100\n",
      "536/536 [==============================] - 1s 3ms/step - loss: 0.3398 - accuracy: 0.8578 - val_loss: 0.3702 - val_accuracy: 0.8501\n",
      "Epoch 61/100\n",
      "536/536 [==============================] - 1s 3ms/step - loss: 0.3413 - accuracy: 0.8614 - val_loss: 0.3706 - val_accuracy: 0.8501\n",
      "Epoch 62/100\n",
      "536/536 [==============================] - 1s 3ms/step - loss: 0.3402 - accuracy: 0.8620 - val_loss: 0.3723 - val_accuracy: 0.8501\n",
      "Epoch 63/100\n",
      "536/536 [==============================] - 1s 3ms/step - loss: 0.3318 - accuracy: 0.8625 - val_loss: 0.3710 - val_accuracy: 0.8501\n",
      "Epoch 64/100\n",
      "536/536 [==============================] - 1s 3ms/step - loss: 0.3401 - accuracy: 0.8586 - val_loss: 0.3712 - val_accuracy: 0.8535\n",
      "Epoch 65/100\n",
      "536/536 [==============================] - 1s 3ms/step - loss: 0.3358 - accuracy: 0.8569 - val_loss: 0.3708 - val_accuracy: 0.8542\n",
      "Epoch 66/100\n",
      "536/536 [==============================] - 1s 3ms/step - loss: 0.3363 - accuracy: 0.8582 - val_loss: 0.3704 - val_accuracy: 0.8504\n",
      "Epoch 67/100\n",
      "536/536 [==============================] - 1s 3ms/step - loss: 0.3407 - accuracy: 0.8573 - val_loss: 0.3742 - val_accuracy: 0.8478\n",
      "Epoch 68/100\n",
      "536/536 [==============================] - 1s 3ms/step - loss: 0.3306 - accuracy: 0.8661 - val_loss: 0.3715 - val_accuracy: 0.8501\n",
      "Epoch 69/100\n",
      "536/536 [==============================] - 1s 3ms/step - loss: 0.3530 - accuracy: 0.8519 - val_loss: 0.3735 - val_accuracy: 0.8504\n",
      "Epoch 70/100\n",
      "536/536 [==============================] - 1s 3ms/step - loss: 0.3388 - accuracy: 0.8583 - val_loss: 0.3775 - val_accuracy: 0.8466\n",
      "Epoch 71/100\n",
      "536/536 [==============================] - 1s 3ms/step - loss: 0.3519 - accuracy: 0.8532 - val_loss: 0.3702 - val_accuracy: 0.8501\n",
      "Epoch 72/100\n",
      "536/536 [==============================] - 1s 3ms/step - loss: 0.3523 - accuracy: 0.8567 - val_loss: 0.3714 - val_accuracy: 0.8485\n",
      "Epoch 73/100\n",
      "536/536 [==============================] - 1s 3ms/step - loss: 0.3455 - accuracy: 0.8532 - val_loss: 0.3702 - val_accuracy: 0.8497\n",
      "Epoch 74/100\n",
      "536/536 [==============================] - 1s 3ms/step - loss: 0.3405 - accuracy: 0.8594 - val_loss: 0.3712 - val_accuracy: 0.8497\n",
      "Epoch 75/100\n",
      "536/536 [==============================] - 1s 3ms/step - loss: 0.3440 - accuracy: 0.8527 - val_loss: 0.3721 - val_accuracy: 0.8497\n",
      "Epoch 76/100\n",
      "536/536 [==============================] - 1s 3ms/step - loss: 0.3566 - accuracy: 0.8503 - val_loss: 0.3699 - val_accuracy: 0.8512\n",
      "Epoch 77/100\n",
      "536/536 [==============================] - 1s 3ms/step - loss: 0.3495 - accuracy: 0.8553 - val_loss: 0.3714 - val_accuracy: 0.8504\n",
      "Epoch 78/100\n",
      "536/536 [==============================] - 1s 3ms/step - loss: 0.3346 - accuracy: 0.8618 - val_loss: 0.3695 - val_accuracy: 0.8493\n",
      "Epoch 79/100\n",
      "536/536 [==============================] - 1s 3ms/step - loss: 0.3298 - accuracy: 0.8612 - val_loss: 0.3782 - val_accuracy: 0.8497\n",
      "Epoch 80/100\n",
      "536/536 [==============================] - 1s 3ms/step - loss: 0.3332 - accuracy: 0.8613 - val_loss: 0.3711 - val_accuracy: 0.8474\n",
      "Epoch 81/100\n",
      "536/536 [==============================] - 1s 3ms/step - loss: 0.3521 - accuracy: 0.8485 - val_loss: 0.3701 - val_accuracy: 0.8482\n",
      "Epoch 82/100\n",
      "536/536 [==============================] - 1s 3ms/step - loss: 0.3429 - accuracy: 0.8553 - val_loss: 0.3703 - val_accuracy: 0.8504\n",
      "Epoch 83/100\n",
      "536/536 [==============================] - 1s 3ms/step - loss: 0.3285 - accuracy: 0.8655 - val_loss: 0.3699 - val_accuracy: 0.8497\n",
      "Epoch 84/100\n",
      "536/536 [==============================] - 1s 3ms/step - loss: 0.3460 - accuracy: 0.8571 - val_loss: 0.3700 - val_accuracy: 0.8512\n",
      "Epoch 85/100\n",
      "536/536 [==============================] - 1s 3ms/step - loss: 0.3483 - accuracy: 0.8582 - val_loss: 0.3732 - val_accuracy: 0.8523\n",
      "Epoch 86/100\n",
      "536/536 [==============================] - 1s 3ms/step - loss: 0.3469 - accuracy: 0.8525 - val_loss: 0.3721 - val_accuracy: 0.8470\n",
      "Epoch 87/100\n",
      "536/536 [==============================] - 1s 3ms/step - loss: 0.3372 - accuracy: 0.8556 - val_loss: 0.3713 - val_accuracy: 0.8516\n",
      "Epoch 88/100\n",
      "536/536 [==============================] - 1s 3ms/step - loss: 0.3412 - accuracy: 0.8637 - val_loss: 0.3731 - val_accuracy: 0.8523\n",
      "Epoch 89/100\n",
      "536/536 [==============================] - 1s 3ms/step - loss: 0.3455 - accuracy: 0.8561 - val_loss: 0.3686 - val_accuracy: 0.8516\n",
      "Epoch 90/100\n",
      "536/536 [==============================] - 1s 3ms/step - loss: 0.3285 - accuracy: 0.8663 - val_loss: 0.3689 - val_accuracy: 0.8497\n",
      "Epoch 91/100\n",
      "536/536 [==============================] - 1s 3ms/step - loss: 0.3550 - accuracy: 0.8508 - val_loss: 0.3713 - val_accuracy: 0.8508\n",
      "Epoch 92/100\n",
      "536/536 [==============================] - 1s 3ms/step - loss: 0.3299 - accuracy: 0.8641 - val_loss: 0.3691 - val_accuracy: 0.8508\n",
      "Epoch 93/100\n",
      "536/536 [==============================] - 1s 3ms/step - loss: 0.3443 - accuracy: 0.8551 - val_loss: 0.3700 - val_accuracy: 0.8504\n",
      "Epoch 94/100\n",
      "536/536 [==============================] - 1s 3ms/step - loss: 0.3376 - accuracy: 0.8572 - val_loss: 0.3696 - val_accuracy: 0.8512\n",
      "Epoch 95/100\n",
      "536/536 [==============================] - 1s 3ms/step - loss: 0.3331 - accuracy: 0.8628 - val_loss: 0.3706 - val_accuracy: 0.8504\n",
      "Epoch 96/100\n",
      "536/536 [==============================] - 1s 3ms/step - loss: 0.3357 - accuracy: 0.8594 - val_loss: 0.3692 - val_accuracy: 0.8508\n",
      "Epoch 97/100\n",
      "536/536 [==============================] - 1s 3ms/step - loss: 0.3304 - accuracy: 0.8619 - val_loss: 0.3692 - val_accuracy: 0.8519\n",
      "Epoch 98/100\n",
      "536/536 [==============================] - 1s 3ms/step - loss: 0.3374 - accuracy: 0.8591 - val_loss: 0.3725 - val_accuracy: 0.8527\n",
      "Epoch 99/100\n",
      "536/536 [==============================] - 1s 3ms/step - loss: 0.3583 - accuracy: 0.8515 - val_loss: 0.3710 - val_accuracy: 0.8516\n",
      "Epoch 100/100\n",
      "536/536 [==============================] - 1s 3ms/step - loss: 0.3349 - accuracy: 0.8580 - val_loss: 0.3708 - val_accuracy: 0.8501\n"
     ]
    }
   ],
   "source": [
    "model_history=classifier.fit(X_train, Y_train, validation_split=0.33, batch_size = 10, epochs = 100)"
   ]
  },
  {
   "cell_type": "code",
   "execution_count": null,
   "metadata": {},
   "outputs": [],
   "source": []
  },
  {
   "cell_type": "code",
   "execution_count": null,
   "metadata": {},
   "outputs": [],
   "source": []
  },
  {
   "cell_type": "code",
   "execution_count": null,
   "metadata": {},
   "outputs": [],
   "source": []
  },
  {
   "cell_type": "markdown",
   "metadata": {},
   "source": [
    "# Keras Hyperparameter tunning using keras Tuner"
   ]
  },
  {
   "cell_type": "code",
   "execution_count": 62,
   "metadata": {},
   "outputs": [],
   "source": [
    "import pandas as pd\n",
    "from tensorflow import keras\n",
    "from tensorflow.keras import layers\n",
    "from kerastuner.tuners import RandomSearch"
   ]
  },
  {
   "cell_type": "code",
   "execution_count": 63,
   "metadata": {},
   "outputs": [],
   "source": [
    "df=pd.read_csv('Real_Combine.csv')"
   ]
  },
  {
   "cell_type": "code",
   "execution_count": 69,
   "metadata": {},
   "outputs": [
    {
     "data": {
      "text/html": [
       "<div>\n",
       "<style scoped>\n",
       "    .dataframe tbody tr th:only-of-type {\n",
       "        vertical-align: middle;\n",
       "    }\n",
       "\n",
       "    .dataframe tbody tr th {\n",
       "        vertical-align: top;\n",
       "    }\n",
       "\n",
       "    .dataframe thead th {\n",
       "        text-align: right;\n",
       "    }\n",
       "</style>\n",
       "<table border=\"1\" class=\"dataframe\">\n",
       "  <thead>\n",
       "    <tr style=\"text-align: right;\">\n",
       "      <th></th>\n",
       "      <th>T</th>\n",
       "      <th>TM</th>\n",
       "      <th>Tm</th>\n",
       "      <th>SLP</th>\n",
       "      <th>H</th>\n",
       "      <th>VV</th>\n",
       "      <th>V</th>\n",
       "      <th>VM</th>\n",
       "      <th>PM 2.5</th>\n",
       "    </tr>\n",
       "  </thead>\n",
       "  <tbody>\n",
       "    <tr>\n",
       "      <th>0</th>\n",
       "      <td>7.4</td>\n",
       "      <td>9.8</td>\n",
       "      <td>4.8</td>\n",
       "      <td>1017.6</td>\n",
       "      <td>93.0</td>\n",
       "      <td>0.5</td>\n",
       "      <td>4.3</td>\n",
       "      <td>9.4</td>\n",
       "      <td>219.720833</td>\n",
       "    </tr>\n",
       "    <tr>\n",
       "      <th>1</th>\n",
       "      <td>7.8</td>\n",
       "      <td>12.7</td>\n",
       "      <td>4.4</td>\n",
       "      <td>1018.5</td>\n",
       "      <td>87.0</td>\n",
       "      <td>0.6</td>\n",
       "      <td>4.4</td>\n",
       "      <td>11.1</td>\n",
       "      <td>182.187500</td>\n",
       "    </tr>\n",
       "    <tr>\n",
       "      <th>2</th>\n",
       "      <td>6.7</td>\n",
       "      <td>13.4</td>\n",
       "      <td>2.4</td>\n",
       "      <td>1019.4</td>\n",
       "      <td>82.0</td>\n",
       "      <td>0.6</td>\n",
       "      <td>4.8</td>\n",
       "      <td>11.1</td>\n",
       "      <td>154.037500</td>\n",
       "    </tr>\n",
       "    <tr>\n",
       "      <th>3</th>\n",
       "      <td>8.6</td>\n",
       "      <td>15.5</td>\n",
       "      <td>3.3</td>\n",
       "      <td>1018.7</td>\n",
       "      <td>72.0</td>\n",
       "      <td>0.8</td>\n",
       "      <td>8.1</td>\n",
       "      <td>20.6</td>\n",
       "      <td>223.208333</td>\n",
       "    </tr>\n",
       "    <tr>\n",
       "      <th>4</th>\n",
       "      <td>12.4</td>\n",
       "      <td>20.9</td>\n",
       "      <td>4.4</td>\n",
       "      <td>1017.3</td>\n",
       "      <td>61.0</td>\n",
       "      <td>1.3</td>\n",
       "      <td>8.7</td>\n",
       "      <td>22.2</td>\n",
       "      <td>200.645833</td>\n",
       "    </tr>\n",
       "  </tbody>\n",
       "</table>\n",
       "</div>"
      ],
      "text/plain": [
       "      T    TM   Tm     SLP     H   VV    V    VM      PM 2.5\n",
       "0   7.4   9.8  4.8  1017.6  93.0  0.5  4.3   9.4  219.720833\n",
       "1   7.8  12.7  4.4  1018.5  87.0  0.6  4.4  11.1  182.187500\n",
       "2   6.7  13.4  2.4  1019.4  82.0  0.6  4.8  11.1  154.037500\n",
       "3   8.6  15.5  3.3  1018.7  72.0  0.8  8.1  20.6  223.208333\n",
       "4  12.4  20.9  4.4  1017.3  61.0  1.3  8.7  22.2  200.645833"
      ]
     },
     "execution_count": 69,
     "metadata": {},
     "output_type": "execute_result"
    }
   ],
   "source": [
    "df.head()"
   ]
  },
  {
   "cell_type": "code",
   "execution_count": 72,
   "metadata": {},
   "outputs": [],
   "source": [
    "X = df.iloc[:, :-1]\n",
    "y = df.iloc[:, -1]"
   ]
  },
  {
   "cell_type": "code",
   "execution_count": 75,
   "metadata": {},
   "outputs": [],
   "source": [
    "## what are hyperparameter and how it is done?\n",
    "# 1. How many number of hidden layers we should have?\n",
    "# 2. how many number of neurons we should have in hidden layer\n",
    "# 3. what should be the learning rate"
   ]
  },
  {
   "cell_type": "code",
   "execution_count": 76,
   "metadata": {},
   "outputs": [],
   "source": [
    "def build_model(hp):\n",
    "    model = keras.Sequential()\n",
    "    for i in range(hp.Int('num_layers', 2, 20)):\n",
    "        model.add(layers.Dense(units=hp.Int('units_' + str(i),\n",
    "                                            min_value=32,\n",
    "                                            max_value=512,\n",
    "                                            step=32),\n",
    "                               activation='relu'))\n",
    "    model.add(layers.Dense(1, activation='linear'))\n",
    "    model.compile(\n",
    "        optimizer=keras.optimizers.Adam(\n",
    "            hp.Choice('learning_rate', [1e-2, 1e-3, 1e-4])),\n",
    "        loss='mean_absolute_error',\n",
    "        metrics=['mean_absolute_error'])\n",
    "    return model"
   ]
  },
  {
   "cell_type": "code",
   "execution_count": 77,
   "metadata": {},
   "outputs": [],
   "source": [
    "tuner = RandomSearch(\n",
    "    build_model,\n",
    "    objective='val_mean_absolute_error',\n",
    "    max_trials=5,\n",
    "    executions_per_trial=3,\n",
    "    directory='project',\n",
    "    project_name='Air Quality Index')"
   ]
  },
  {
   "cell_type": "code",
   "execution_count": 78,
   "metadata": {},
   "outputs": [
    {
     "name": "stdout",
     "output_type": "stream",
     "text": [
      "Search space summary\n",
      "Default search space size: 4\n",
      "num_layers (Int)\n",
      "{'default': None, 'conditions': [], 'min_value': 2, 'max_value': 20, 'step': 1, 'sampling': None}\n",
      "units_0 (Int)\n",
      "{'default': None, 'conditions': [], 'min_value': 32, 'max_value': 512, 'step': 32, 'sampling': None}\n",
      "units_1 (Int)\n",
      "{'default': None, 'conditions': [], 'min_value': 32, 'max_value': 512, 'step': 32, 'sampling': None}\n",
      "learning_rate (Choice)\n",
      "{'default': 0.01, 'conditions': [], 'values': [0.01, 0.001, 0.0001], 'ordered': True}\n"
     ]
    }
   ],
   "source": [
    "tuner.search_space_summary()"
   ]
  },
  {
   "cell_type": "code",
   "execution_count": 79,
   "metadata": {},
   "outputs": [],
   "source": [
    "from sklearn.model_selection import train_test_split\n",
    "X_train, X_test, y_train, y_test = train_test_split(X, y, test_size=0.3, random_state=0)"
   ]
  },
  {
   "cell_type": "code",
   "execution_count": 84,
   "metadata": {
    "scrolled": false
   },
   "outputs": [
    {
     "name": "stdout",
     "output_type": "stream",
     "text": [
      "Trial 5 Complete [00h 00m 17s]\n",
      "val_mean_absolute_error: nan\n",
      "\n",
      "Best val_mean_absolute_error So Far: nan\n",
      "Total elapsed time: 00h 01m 13s\n",
      "INFO:tensorflow:Oracle triggered exit\n"
     ]
    }
   ],
   "source": [
    "tuner.search(X_train, y_train,\n",
    "             epochs=5,\n",
    "             validation_data=(X_test, y_test))"
   ]
  },
  {
   "cell_type": "code",
   "execution_count": null,
   "metadata": {},
   "outputs": [],
   "source": []
  }
 ],
 "metadata": {
  "kernelspec": {
   "display_name": "Python 3",
   "language": "python",
   "name": "python3"
  },
  "language_info": {
   "codemirror_mode": {
    "name": "ipython",
    "version": 3
   },
   "file_extension": ".py",
   "mimetype": "text/x-python",
   "name": "python",
   "nbconvert_exporter": "python",
   "pygments_lexer": "ipython3",
   "version": "3.8.6"
  }
 },
 "nbformat": 4,
 "nbformat_minor": 4
}
